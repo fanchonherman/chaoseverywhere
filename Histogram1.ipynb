{
 "cells": [
  {
   "cell_type": "code",
   "execution_count": null,
   "metadata": {},
   "outputs": [],
   "source": [
    "import numpy as np\n",
    "import matplotlib.pyplot as plt"
   ]
  },
  {
   "cell_type": "code",
   "execution_count": null,
   "metadata": {},
   "outputs": [],
   "source": [
    "MAX_ITER = 120 #nécessairement inférieure à 255\n",
    "R=4\n",
    "def mandelbrot(c):\n",
    "    z=0\n",
    "    i=0\n",
    "    while i<MAX_ITER and abs(z)<=R:\n",
    "        i+=1\n",
    "        z=z**2+c\n",
    "    if i==MAX_ITER:\n",
    "        return 255\n",
    "    else:\n",
    "        return i"
   ]
  }
 ],
 "metadata": {
  "kernelspec": {
   "display_name": "Python 2",
   "language": "python",
   "name": "python2"
  },
  "language_info": {
   "codemirror_mode": {
    "name": "ipython",
    "version": 2
   },
   "file_extension": ".py",
   "mimetype": "text/x-python",
   "name": "python",
   "nbconvert_exporter": "python",
   "pygments_lexer": "ipython2",
   "version": "2.7.15"
  }
 },
 "nbformat": 4,
 "nbformat_minor": 2
}