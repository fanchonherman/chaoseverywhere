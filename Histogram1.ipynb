{
 "cells": [
  {
   "cell_type": "code",
   "execution_count": null,
   "metadata": {},
   "outputs": [],
   "source": [
    "import numpy as np\n",
    "import matplotlib.pyplot as plt"
   ]
  },
  {
   "cell_type": "code",
   "execution_count": null,
   "metadata": {},
   "outputs": [],
   "source": [
    "MAX_ITER = 120 #nécessairement inférieure à 255\n",
    "R=4\n",
    "def mandelbrot(c):\n",
    "    z=0\n",
    "    i=0\n",
    "    while i<MAX_ITER and abs(z)<=R:\n",
    "        i+=1\n",
    "        z=z**2+c\n",
    "    if i==MAX_ITER:\n",
    "        return 255\n",
    "    else:\n",
    "        return i"
   ]
  },
  {
   "cell_type": "code",
   "execution_count": null,
   "metadata": {},
   "outputs": [],
   "source": [
    "minx=-2\n",
    "maxx=2\n",
    "miny=-2\n",
    "maxy=2\n",
    "Nx=1024 #nombre de pixels hauteur\n",
    "Ny=1024 #nombre de pixels largeur\n",
    "Nb_trait=16 #nombre de barres dans l'histogramme, puissance de 2 de préférence\n",
    "haut_hist=10000 #c'est pour discrétiser l'image de l'histogramme, plus c'est grand plus c'est précis.\n",
    "lgn_hist=Nb_trait\n",
    "couleur0=(0.3,1,0.3)\n",
    "couleur1=(0.3,0.3,1)\n",
    "M=np.zeros([Ny,Nx])\n",
    "N=np.zeros([haut_hist,lgn_hist,3])\n",
    "im=np.zeros([Ny,Nx,3])\n",
    "long_trait=256//Nb_trait\n",
    "histogram={}"
   ]
  },
  {
   "cell_type": "code",
   "execution_count": null,
   "metadata": {},
   "outputs": [],
   "source": [
    "for i in range(Nb_trait):\n",
    "    histogram[i]=0\n",
    "for i in range(Ny):\n",
    "    for j in range(Nx):\n",
    "        x=minx+(maxx-minx)*j/Nx\n",
    "        y=miny+(maxx-minx)*(Ny-i)/Ny\n",
    "        c=x+y*1j\n",
    "        M[i,j]=mandelbrot(c)\n",
    "        histogram[M[i,j]//long_trait]+=1\n",
    "im[:,:,0]=M/255*couleur1[0]+(1-M/255)*couleur0[0]\n",
    "im[:,:,1]=M/255*couleur1[1]+(1-M/255)*couleur0[1]\n",
    "im[:,:,2]=M/255*couleur1[2]+(1-M/255)*couleur0[2]\n",
    "plt.figure(1)\n",
    "plt.imshow(im)\n",
    "plt.imsave(\"image.png\",im)\n",
    "plt.show()\n",
    "s=max(histogram.values())"
   ]
  }
 ],
 "metadata": {
  "kernelspec": {
   "display_name": "Python 2",
   "language": "python",
   "name": "python2"
  },
  "language_info": {
   "codemirror_mode": {
    "name": "ipython",
    "version": 2
   },
   "file_extension": ".py",
   "mimetype": "text/x-python",
   "name": "python",
   "nbconvert_exporter": "python",
   "pygments_lexer": "ipython2",
   "version": "2.7.15"
  }
 },
 "nbformat": 4,
 "nbformat_minor": 2
}