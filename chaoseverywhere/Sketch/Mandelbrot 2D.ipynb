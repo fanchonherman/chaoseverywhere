{
 "cells": [
  {
   "cell_type": "code",
   "execution_count": 1,
   "metadata": {},
   "outputs": [],
   "source": [
    "\n",
    "# On génère un mandelbrot 2D\n",
    "# On importe tout d'abord les bibliothèques qui vont nous être utile\n",
    "import sys\n",
    "import numpy\n",
    "import pickle\n",
    "import math"
   ]
  },
  {
   "cell_type": "code",
   "execution_count": 36,
   "metadata": {},
   "outputs": [],
   "source": [
    "def mandelbrot(c, iters,threshold):#on déffinit la fonction mandelbrot\n",
    "    z = 0\n",
    "    i = 0\n",
    "    while i < iters and abs(z) < threshold:\n",
    "        z = z*z + c\n",
    "        i += 1\n",
    "    \n",
    "    return i"
   ]
  },
  {
   "cell_type": "code",
   "execution_count": 3,
   "metadata": {},
   "outputs": [],
   "source": [
    "def _pow(z,d):\n",
    "    if z == 0j:# pour enlever le cas de z=0, on l'étudie séparement \n",
    "        return 0\n",
    "    else:\n",
    "        return pow(z,d)"
   ]
  },
  {
   "cell_type": "code",
   "execution_count": 4,
   "metadata": {},
   "outputs": [],
   "source": []
  },
  {
   "cell_type": "code",
   "execution_count": 5,
   "metadata": {},
   "outputs": [],
   "source": [
    "def generateMandelbrot(winWidth,winHeight,iterations,threshold):\n",
    "    outputValues = []\n",
    "    \n",
    "    for x in numpy.arange(0,winWidth):\n",
    "        outputValues.append([])\n",
    "        for y in numpy.arange(0,winHeight):\n",
    "            if x % 100 == 0  and y % 100 == 0:\n",
    "                print x,y\n",
    "                #print outputValues\n",
    "            mX = x*(3.0/winWidth) - 2\n",
    "            mY = y*(2.0/winHeight) - 1\n",
    "            \n",
    "            c = complex(mX,mY)\n",
    "            \n",
    "            m = mandelbrot(c,iterations,threshold)\n",
    "            outputValues[x].append(m)\n",
    "    \n",
    "    return outputValues"
   ]
  },
  {
   "cell_type": "code",
   "execution_count": 6,
   "metadata": {},
   "outputs": [],
   "source": []
  },
  {
   "cell_type": "code",
   "execution_count": 9,
   "metadata": {},
   "outputs": [],
   "source": [
    "\n",
    "\n",
    "\n"
   ]
  },
  {
   "cell_type": "markdown",
   "metadata": {},
   "source": [
    "Pour afficher : \n"
   ]
  },
  {
   "cell_type": "code",
   "execution_count": 23,
   "metadata": {},
   "outputs": [],
   "source": [
    "import sys\n",
    "import functools\n",
    "import time\n",
    "#import pygame\n",
    "import pickle\n",
    "import colorsys\n",
    "#from pygame.locals import *"
   ]
  },
  {
   "cell_type": "code",
   "execution_count": 24,
   "metadata": {},
   "outputs": [],
   "source": [
    "class memoized(object):\n",
    "   \n",
    "   def __init__(self, func):\n",
    "      self.func = func\n",
    "      self.cache = {}\n",
    "  "
   ]
  },
  {
   "cell_type": "code",
   "execution_count": 25,
   "metadata": {},
   "outputs": [],
   "source": [
    "def __call__(self, *args):\n",
    "      try:\n",
    "         return self.cache[args]\n",
    "      except KeyError:\n",
    "         value = self.func(*args)\n",
    "         self.cache[args] = value\n",
    "         return value\n",
    "      except TypeError:\n",
    "         # uncachable -- for instance, passing a list as an argument.\n",
    "         # Better to not cache than to blow up entirely.\n",
    "         return self.func(*args)"
   ]
  },
  {
   "cell_type": "code",
   "execution_count": 26,
   "metadata": {},
   "outputs": [],
   "source": [
    "def __repr__(self):\n",
    "      '''on retourne la fonction docstring.'''\n",
    "      return self.func.__doc__"
   ]
  },
  {
   "cell_type": "code",
   "execution_count": 27,
   "metadata": {},
   "outputs": [],
   "source": [
    "   def __get__(self, obj, objtype):\n",
    "\n",
    "      return functools.partial(self.__call__, obj)"
   ]
  },
  {
   "cell_type": "code",
   "execution_count": 28,
   "metadata": {},
   "outputs": [],
   "source": [
    "def drawData(surface,data,colourScheme):\n",
    "    '''\n",
    "   on trace en 2 D\n",
    "    '''\n",
    "    for x in range(len(data) - 1):\n",
    "        for y in range(len(data[x]) - 1):\n",
    "            surface.set_at((x,y),colourScheme(data[x][y]))\n",
    "            \n",
    "    return surface"
   ]
  },
  {
   "cell_type": "code",
   "execution_count": 29,
   "metadata": {},
   "outputs": [],
   "source": [
    "def itersToColour(iters):\n",
    "    rgb = [int(255*x) for x in colorsys.hls_to_rgb(1.0/(iters+1),0.5,0.8)]\n",
    "    \n",
    "    return Color(*rgb)"
   ]
  },
  {
   "cell_type": "code",
   "execution_count": 37,
   "metadata": {},
   "outputs": [],
   "source": [
    "def main():\n",
    "    inputFileName = sys.argv[1] \n",
    "    \n",
    "    dataFile = open(inputFileName,'r')\n",
    "    \n",
    "    data = pickle.load(dataFile)\n",
    "    \n",
    "    pygame.init()\n",
    "    \n",
    "    winWidth,winHeight = len(data),len(data[0])\n",
    "    \n",
    "    surf = pygame.display.set_mode((winWidth,winHeight))\n",
    "    pygame.display.set_caption(\"Mandelbrot set!\")\n",
    "    \n",
    "    \n",
    "    drawData(surf,data,itersToColour)\n",
    "    \n",
    "    pygame.image.save(surf,\"mandelbrot \"+time.asctime(time.gmtime())+\".png\")\n",
    "    print \"Image displayed!\"\n",
    "    \n",
    "    pygame.display.flip()\n",
    "    \n",
    "    while True:\n",
    "\n",
    "        for event in pygame.event.get():\n",
    "            if event.type == QUIT:\n",
    "                pygame.quit()\n",
    "                sys.exit()\n",
    "            elif event.type == KEYDOWN and event.key == K_ESCAPE:\n",
    "                pygame.event.post(pygame.event.Event(QUIT))\n",
    "\n",
    "\n",
    "#if __name__== '__main__' : main()"
   ]
  },
  {
   "cell_type": "code",
   "execution_count": null,
   "metadata": {},
   "outputs": [],
   "source": []
  },
  {
   "cell_type": "code",
   "execution_count": 34,
   "metadata": {},
   "outputs": [
    {
     "ename": "ImportError",
     "evalue": "No module named ffmpeg",
     "output_type": "error",
     "traceback": [
      "\u001b[0;31m---------------------------------------------------------------------------\u001b[0m",
      "\u001b[0;31mImportError\u001b[0m                               Traceback (most recent call last)",
      "\u001b[0;32m<ipython-input-34-aa643442f2ac>\u001b[0m in \u001b[0;36m<module>\u001b[0;34m()\u001b[0m\n\u001b[1;32m      1\u001b[0m \u001b[0;32mimport\u001b[0m \u001b[0mnumpy\u001b[0m \u001b[0;32mas\u001b[0m \u001b[0mnp\u001b[0m\u001b[0;34m\u001b[0m\u001b[0m\n\u001b[0;32m----> 2\u001b[0;31m \u001b[0;32mimport\u001b[0m \u001b[0mffmpeg\u001b[0m\u001b[0;34m\u001b[0m\u001b[0m\n\u001b[0m\u001b[1;32m      3\u001b[0m \u001b[0;32mimport\u001b[0m \u001b[0mmatplotlib\u001b[0m\u001b[0;34m.\u001b[0m\u001b[0mpyplot\u001b[0m \u001b[0;32mas\u001b[0m \u001b[0mplt\u001b[0m\u001b[0;34m\u001b[0m\u001b[0m\n\u001b[1;32m      4\u001b[0m \u001b[0;32mimport\u001b[0m \u001b[0mmatplotlib\u001b[0m\u001b[0;34m.\u001b[0m\u001b[0manimation\u001b[0m \u001b[0;32mas\u001b[0m \u001b[0manimation\u001b[0m\u001b[0;34m\u001b[0m\u001b[0m\n\u001b[1;32m      5\u001b[0m \u001b[0;32mimport\u001b[0m \u001b[0mos\u001b[0m\u001b[0;34m\u001b[0m\u001b[0m\n",
      "\u001b[0;31mImportError\u001b[0m: No module named ffmpeg"
     ]
    }
   ],
   "source": []
  },
  {
   "cell_type": "code",
   "execution_count": null,
   "metadata": {},
   "outputs": [],
   "source": []
  },
  {
   "cell_type": "code",
   "execution_count": null,
   "metadata": {},
   "outputs": [],
   "source": []
  },
  {
   "cell_type": "code",
   "execution_count": null,
   "metadata": {},
   "outputs": [],
   "source": []
  },
  {
   "cell_type": "code",
   "execution_count": null,
   "metadata": {},
   "outputs": [],
   "source": []
  }
 ],
 "metadata": {
  "kernelspec": {
   "display_name": "Python 3",
   "language": "python",
   "name": "python3"
  },
  "language_info": {
   "codemirror_mode": {
    "name": "ipython",
    "version": 3
   },
   "file_extension": ".py",
   "mimetype": "text/x-python",
   "name": "python",
   "nbconvert_exporter": "python",
   "pygments_lexer": "ipython3",
   "version": "3.7.6"
  },
  "toc": {
   "base_numbering": 1,
   "nav_menu": {},
   "number_sections": true,
   "sideBar": true,
   "skip_h1_title": false,
   "title_cell": "Table of Contents",
   "title_sidebar": "Contents",
   "toc_cell": false,
   "toc_position": {},
   "toc_section_display": true,
   "toc_window_display": false
  }
 },
 "nbformat": 4,
 "nbformat_minor": 2
}
