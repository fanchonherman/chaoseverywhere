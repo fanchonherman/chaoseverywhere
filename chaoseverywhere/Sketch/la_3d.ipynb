{
 "cells": [
  {
   "cell_type": "code",
   "execution_count": 1,
   "metadata": {},
   "outputs": [],
   "source": [
    "import numpy as np\n",
    "import matplotlib.pyplot as plt\n",
    "from mayavi import mlab\n",
    "#mlab.init_notebook(backend='x3d') #pour la 3d in jupyter\n",
    "%matplotlib notebook"
   ]
  },
  {
   "cell_type": "code",
   "execution_count": null,
   "metadata": {},
   "outputs": [],
   "source": [
    "class Mandelbrot_disp:\n",
    "\n",
    "    def __init__(self, x, y, facteur, t_max=100, precision=400):\n",
    "        self.x = x\n",
    "        self.y = y\n",
    "        self.facteur = facteur\n",
    "        self.t_max = t_max\n",
    "        self.precision = precision\n",
    "\n",
    "    def mandelbrot(self):\n",
    "        x, y, facteur, maxiteration, precision = self.x, self.y, self.facteur, self.t_max, self.precision\n",
    "        # définit l'espace avec une matrice\n",
    "        X, Y = np.meshgrid(np.linspace(x-facteur, x+facteur, precision),\n",
    "                           np.linspace(y-facteur, y+facteur, precision))\n",
    "        c = X+1j*Y  # nombre complex écrit avec des matrices\n",
    "        z = c\n",
    "        # matrice booléenne qui vérifie la condition sur (z_n)\n",
    "        pasbornee = np.zeros(z.shape, dtype=bool)\n",
    "        for i in range(maxiteration):\n",
    "            z = z**2+c\n",
    "            matrice = abs(z) > 2  # condition sur le cercle\n",
    "            nouvelle = matrice & ~pasbornee  # le ~est la négation logique\n",
    "            pasbornee[nouvelle] = True\n",
    "            # valeur arbitraire pour éviter les overflow je limite la valeur =>\n",
    "            z[matrice] = 1\n",
    "            # prévient le problème des deux ci-dessous\n",
    "        return pasbornee  # renvoi de la matrice booleenne qui indique si la valeur est bornée\n",
    "\n",
    "\n",
    "    def disp_mandel(self):\n",
    "        mandel = self.mandelbrot()\n",
    "        plt.figure()\n",
    "        plt.imshow(mandel, cmap='bone')  # interpolation induite\n",
    "        plt.axis('off')\n",
    "        plt.show()\n",
    "\n",
    "    def animate_mandel_plt(self, openvid=True):\n",
    "        im_init = self.mandelbrot()\n",
    "        fig = plt.figure()\n",
    "        im = plt.imshow(im_init, cmap='bone')\n",
    "        plt.axis('off')\n",
    "        def animate(i):\n",
    "            im.set_data(Mandelbrot_disp(self.x-i/900, self.y, 0.7-i/300,\n",
    "                                        t_max=100, precision=300).mandelbrot())\n",
    "            return im,\n",
    "\n",
    "        anim = animation.FuncAnimation(fig, animate, frames=210,interval=2, repeat=False,save_count=200)\n",
    "        return(anim)\n",
    "        \n",
    "\n",
    "\n",
    "Mandelbrot_disp(-1.401155, 0, 0.5, precision=900).disp_mandel()"
   ]
  },
  {
   "cell_type": "code",
   "execution_count": 2,
   "metadata": {},
   "outputs": [
    {
     "name": "stderr",
     "output_type": "stream",
     "text": [
      "C:\\Users\\tangu\\Anaconda3\\lib\\site-packages\\ipykernel_launcher.py:8: RuntimeWarning: overflow encountered in multiply\n",
      "  \n",
      "C:\\Users\\tangu\\Anaconda3\\lib\\site-packages\\ipykernel_launcher.py:8: RuntimeWarning: invalid value encountered in multiply\n",
      "  \n",
      "C:\\Users\\tangu\\Anaconda3\\lib\\site-packages\\ipykernel_launcher.py:7: RuntimeWarning: overflow encountered in square\n",
      "  import sys\n",
      "C:\\Users\\tangu\\Anaconda3\\lib\\site-packages\\ipykernel_launcher.py:7: RuntimeWarning: invalid value encountered in square\n",
      "  import sys\n",
      "C:\\Users\\tangu\\Anaconda3\\lib\\site-packages\\ipykernel_launcher.py:8: RuntimeWarning: invalid value encountered in greater\n",
      "  \n"
     ]
    },
    {
     "data": {
      "text/plain": [
       "<mayavi.modules.surface.Surface at 0x19ccf703288>"
      ]
     },
     "execution_count": 2,
     "metadata": {},
     "output_type": "execute_result"
    }
   ],
   "source": [
    "x, y = np.ogrid[-1.5:1.5:800j, -1.5:1.55:800j]\n",
    "c = x + 1j * y\n",
    "z=np.zeros(c.shape)\n",
    "mandel = np.zeros(c.shape)\n",
    "\n",
    "for i in range(50):\n",
    "    z = z ** 2 + c\n",
    "    mandel += 1 / float(2 + i) * (z * np.conj(z) > 4)\n",
    "\n",
    "# Display it\n",
    "mlab.figure(size=(800, 800))\n",
    "mlab.surf(mandel, colormap='hot', warp_scale='auto', vmax=1.5)\n",
    "#plt.imshow(mandel)"
   ]
  },
  {
   "cell_type": "code",
   "execution_count": 3,
   "metadata": {},
   "outputs": [
    {
     "name": "stderr",
     "output_type": "stream",
     "text": [
      "C:\\Users\\tangu\\Anaconda3\\lib\\site-packages\\ipykernel_launcher.py:9: RuntimeWarning: overflow encountered in multiply\n",
      "  if __name__ == '__main__':\n",
      "C:\\Users\\tangu\\Anaconda3\\lib\\site-packages\\ipykernel_launcher.py:9: RuntimeWarning: invalid value encountered in multiply\n",
      "  if __name__ == '__main__':\n",
      "C:\\Users\\tangu\\Anaconda3\\lib\\site-packages\\ipykernel_launcher.py:8: RuntimeWarning: overflow encountered in square\n",
      "  \n",
      "C:\\Users\\tangu\\Anaconda3\\lib\\site-packages\\ipykernel_launcher.py:8: RuntimeWarning: invalid value encountered in square\n",
      "  \n",
      "C:\\Users\\tangu\\Anaconda3\\lib\\site-packages\\ipykernel_launcher.py:9: RuntimeWarning: invalid value encountered in greater\n",
      "  if __name__ == '__main__':\n"
     ]
    }
   ],
   "source": [
    "# Calculate the Julia set on a grid\n",
    "x, y = np.ogrid[-1.5:1:500j, -1.5:1.5:500j]\n",
    "z = x + 1j * y\n",
    "\n",
    "julia = np.zeros(z.shape)\n",
    "\n",
    "for i in range(100):\n",
    "    z = z ** 2 - 0.70176 - 0.3842j\n",
    "    julia += 1 / float(2 + i) * (z * np.conj(z) > 4)\n",
    "\n",
    "# Display it\n",
    "mlab.figure(size=(400, 300))\n",
    "mlab.surf(julia, colormap='gist_earth', warp_scale='auto', vmax=1.5)\n",
    "\n",
    "# A view into the \"Canyon\"\n",
    "mlab.view(65, 27, 322, [30., -13.7,  136])\n",
    "mlab.show()"
   ]
  }
 ],
 "metadata": {
  "kernelspec": {
   "display_name": "Python 3",
   "language": "python",
   "name": "python3"
  },
  "language_info": {
   "codemirror_mode": {
    "name": "ipython",
    "version": 3
   },
   "file_extension": ".py",
   "mimetype": "text/x-python",
   "name": "python",
   "nbconvert_exporter": "python",
   "pygments_lexer": "ipython3",
   "version": "3.7.6"
  },
  "toc": {
   "base_numbering": 1,
   "nav_menu": {},
   "number_sections": true,
   "sideBar": true,
   "skip_h1_title": false,
   "title_cell": "Table of Contents",
   "title_sidebar": "Contents",
   "toc_cell": false,
   "toc_position": {},
   "toc_section_display": true,
   "toc_window_display": false
  }
 },
 "nbformat": 4,
 "nbformat_minor": 4
}
