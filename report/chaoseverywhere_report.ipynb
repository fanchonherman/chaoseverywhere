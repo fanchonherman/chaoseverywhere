{
 "cells": [
  {
   "cell_type": "markdown",
   "metadata": {},
   "source": [
    "<p style=\"text-align:left;\">\n",
    "    M1 Biostatistic\n",
    "    <span style=\"float:right;\">\n",
    "        May 2020\n",
    "    </span>\n",
    "</p>\n",
    "Authors: Lefort Tanguy, Coiffier Ophélie and Gaizi Ibrahim\n",
    "\n",
    "*********************"
   ]
  },
  {
   "cell_type": "markdown",
   "metadata": {},
   "source": [
    "# <center>Chaoseverywhere package </center>"
   ]
  },
  {
   "cell_type": "markdown",
   "metadata": {},
   "source": [
    "<img src=\"https://raw.githubusercontent.com/tanglef/chaoseverywhere/b8f51140d20ca6eb8866e551e0c38c40b31aaa76/doc/_static/logo1_f.svg\" alt=\"Logo\" width=\"300\" height=\"100\">"
   ]
  },
  {
   "cell_type": "markdown",
   "metadata": {
    "toc": true
   },
   "source": [
    "<h1>Table of Contents<span class=\"tocSkip\"></span></h1>\n",
    "<div class=\"toc\"><ul class=\"toc-item\"><li><span><a href=\"#1.-Generalities-\" data-toc-modified-id=\"1.-Generalities--1\">1. Generalities <a name=\"gen\"></a></a></span><ul class=\"toc-item\"><li><span><a href=\"#A.-About-chaoseverywhere-\" data-toc-modified-id=\"A.-About-chaoseverywhere--1.1\">A. About chaoseverywhere <a name=\"about\"></a></a></span></li><li><span><a href=\"#B.-Setup-for-the-report-\" data-toc-modified-id=\"B.-Setup-for-the-report--1.2\">B. Setup for the report <a name=\"setup\"></a></a></span></li><li><span><a href=\"#C.-Define-the-concepts-\" data-toc-modified-id=\"C.-Define-the-concepts--1.3\">C. Define the concepts <a name=\"defs\"></a></a></span></li></ul></li><li><span><a href=\"#2.-The-logistic-map-\" data-toc-modified-id=\"2.-The-logistic-map--2\">2. The logistic map <a name=\"logmap\"></a></a></span><ul class=\"toc-item\"><li><span><a href=\"#A.-Definition\" data-toc-modified-id=\"A.-Definition-2.1\">A. Definition</a></span></li></ul></li></ul></div>"
   ]
  },
  {
   "cell_type": "markdown",
   "metadata": {},
   "source": [
    "## 1. Generalities <a name=\"gen\"></a>\n",
    "### A. About chaoseverywhere <a name=\"about\"></a>\n",
    "\n",
    "Chaoseverywhere is a Python$3$ package that includes two main themes : \n",
    "+ the Mandelbrot set,\n",
    "+ the logistic map.\n",
    "\n",
    "Using this package, we can observe the link between the Mandelbrot set and the bifurcation diagram of the logistic map.\n",
    "\n",
    "In a first part, we will draw the logistic map and its bifurcation diagram. An animation and an interactive plot are available in order to watch the behavior of the logistic map its link to the chaos theory.\n",
    "\n",
    "In a second part, we draw the Mandelbrot set and zoom in it. We also consider the coordinates of the points in the Mandelbrot set and their associated speed of divergence. Finally, we look at a way to construct a $3$D visualization of the data collected."
   ]
  },
  {
   "cell_type": "markdown",
   "metadata": {},
   "source": [
    "### B. Setup for the report <a name=\"setup\"></a>\n",
    "To create the figures below and manipulate them, we need to import some packages and configure them."
   ]
  },
  {
   "cell_type": "code",
   "execution_count": 1,
   "metadata": {},
   "outputs": [
    {
     "name": "stdout",
     "output_type": "stream",
     "text": [
      "Notebook initialized with ipy backend.\n"
     ]
    }
   ],
   "source": [
    "# to manipulate the paths\n",
    "import sys \n",
    "import os\n",
    "# to manipulate the data generated\n",
    "import numpy as np\n",
    "# to display and use the interactiveness of IPython\n",
    "from ipywidgets import interact, FloatSlider, fixed, IntSlider\n",
    "import matplotlib.pyplot as plt\n",
    "%matplotlib notebook\n",
    "# To display \"interactive\" mayavi plot embedded in the notebook\n",
    "from mayavi import mlab\n",
    "mlab.init_notebook()"
   ]
  },
  {
   "cell_type": "markdown",
   "metadata": {},
   "source": [
    "We also need to import our package `chaoseverywhere` too. It will allow us to use all the functions that we made to draw the plots, define the logistic map, use pre-made animations, $\\dots$ "
   ]
  },
  {
   "cell_type": "code",
   "execution_count": 2,
   "metadata": {},
   "outputs": [],
   "source": [
    "sys.path.append(os.path.dirname(os.path.abspath('chaoseverywhere')) + (os.path.sep + '..'))\n",
    "import chaoseverywhere as chaos"
   ]
  },
  {
   "cell_type": "markdown",
   "metadata": {},
   "source": [
    "### C. Define the concepts <a name=\"defs\"></a>\n",
    "Our subject deals with both fractals and the chaos theory. Let's briefly define those two. Along this report, we will explain them more using animations.\n",
    "\n",
    "Firstly, the chaos in mathematic is study of the patterns one can find in a system that seems totally random. Actually, a system is considered chaotic if: \n",
    "1. it's sensitive to the initial conditions: the slightest modification will have larger effect on the trajectory considered,\n",
    "1. every point can be approached by periodic orbits,\n",
    "1. any region of the phase space (meaning all the possible states) will intersect another region (it is called the [topological mixing](https://en.wikipedia.org/wiki/Mixing_(mathematics)#Topological_mixing )).\n",
    "\n",
    "<div class=\"alert alert-block alert-info\">\n",
    "<b>Note:</b> Depending on the the characteristics observed and the system, these conditions may change. In this package, we mainly consider the first two.\n",
    "</div>\n",
    "\n",
    "\n",
    "Secondly, a fractal is an object that has at least one of the following characteristics:\n",
    "1. a self-similarity at different scale,\n",
    "1. self-similar structures can be observed within the figure,\n",
    "1. the [Haussdorff dimension](https://en.wikipedia.org/wiki/Hausdorff_dimension) isn't an integer."
   ]
  },
  {
   "cell_type": "markdown",
   "metadata": {},
   "source": [
    "## 2. The logistic map <a name=\"logmap\"></a>\n",
    "### A. Definition"
   ]
  },
  {
   "cell_type": "code",
   "execution_count": null,
   "metadata": {},
   "outputs": [],
   "source": []
  }
 ],
 "metadata": {
  "kernelspec": {
   "display_name": "Python 3",
   "language": "python",
   "name": "python3"
  },
  "language_info": {
   "codemirror_mode": {
    "name": "ipython",
    "version": 3
   },
   "file_extension": ".py",
   "mimetype": "text/x-python",
   "name": "python",
   "nbconvert_exporter": "python",
   "pygments_lexer": "ipython3",
   "version": "3.7.6"
  },
  "toc": {
   "base_numbering": 1,
   "nav_menu": {},
   "number_sections": false,
   "sideBar": true,
   "skip_h1_title": true,
   "title_cell": "Table of Contents",
   "title_sidebar": "Contents",
   "toc_cell": true,
   "toc_position": {},
   "toc_section_display": true,
   "toc_window_display": true
  }
 },
 "nbformat": 4,
 "nbformat_minor": 4
}
